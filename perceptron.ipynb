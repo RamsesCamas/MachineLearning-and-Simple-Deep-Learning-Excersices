{
 "cells": [
  {
   "cell_type": "code",
   "execution_count": 2,
   "metadata": {},
   "outputs": [
    {
     "name": "stdout",
     "output_type": "stream",
     "text": [
      "Weighted Sum :  0.31\n",
      "Output: 0\n"
     ]
    }
   ],
   "source": [
    "x_input = [0.1,0.5,0.2]\n",
    "\n",
    "w_weights = [0.4, 0.3, 0.6]\n",
    "\n",
    "threshold = 0.5\n",
    "\n",
    "\n",
    "def step_func(weighted_sum):\n",
    "    if weighted_sum > threshold:\n",
    "        return 1\n",
    "    else:\n",
    "        return 0\n",
    "\n",
    "def perceptron():\n",
    "    weighted_sum = 0\n",
    "    for x, w in zip(x_input, w_weights):\n",
    "        weighted_sum +=  x*w\n",
    "    print('Weighted Sum : ', weighted_sum)\n",
    "    return step_func(weighted_sum)\n",
    "\n",
    "output = perceptron()\n",
    "print(f'Output: {output}')"
   ]
  }
 ],
 "metadata": {
  "interpreter": {
   "hash": "02580f3b40faffdca494a56716cab34cc74dfb88737f96a81a04d7c61a2f2be5"
  },
  "kernelspec": {
   "display_name": "Python 3.9.7 ('base')",
   "language": "python",
   "name": "python3"
  },
  "language_info": {
   "codemirror_mode": {
    "name": "ipython",
    "version": 3
   },
   "file_extension": ".py",
   "mimetype": "text/x-python",
   "name": "python",
   "nbconvert_exporter": "python",
   "pygments_lexer": "ipython3",
   "version": "3.9.7"
  },
  "orig_nbformat": 4
 },
 "nbformat": 4,
 "nbformat_minor": 2
}
